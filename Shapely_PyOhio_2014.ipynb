{
 "metadata": {
  "name": ""
 },
 "nbformat": 3,
 "nbformat_minor": 0,
 "worksheets": [
  {
   "cells": [
    {
     "cell_type": "raw",
     "metadata": {},
     "source": [
      "Shapely outline\n",
      "\n",
      "- Show complex map\n",
      "- Show Mike\u2019s equator cat\n",
      "\n",
      "- Talk about import packages\n",
      "- Show code for drawing and give credit\n",
      "\n",
      "\n",
      "Drawing basic shapes\n",
      "\n",
      "- Draw point\n",
      "- Draw line between two points\n",
      "- Make a complex linestring\n",
      "- Draw polygon from point using buffer\n",
      "- Show complex figure\n",
      "- Show polygon with holes\n",
      "-- Add/ Remove Holes \n",
      "-- Break the polygon with holes into pieces\n",
      "\n",
      "\n",
      "- Multipolygon from union of Polygons\n",
      "\u2014Overlapping\n",
      "\u2014Not overlapping\n",
      "\u2014Show change in area\n",
      "- Cascading Union\n",
      "\n",
      "\n",
      "More Operations\n",
      "- Intersection Polygons\n",
      "- Difference Polygons\n",
      "- Different degrees of simplification\n",
      "\n",
      "\n",
      "Things that could go wrong\n",
      "- Various types of unsound polygons\n",
      "-- Self intersection\n",
      "-- Tangent\n",
      "-- Hole outside of shape\n",
      "-- Not enough points\n",
      "- Causes\n",
      "- Methods for fixing them\n",
      "\n",
      "\n",
      "Mapping and Data\n",
      "- Fiona\n",
      "- Some cool map shapes\n",
      "- Data projection"
     ]
    },
    {
     "cell_type": "code",
     "collapsed": false,
     "input": [
      "import os\n",
      "import numpy as np\n",
      "\n",
      "from matplotlib.patches import Polygon\n",
      "import matplotlib.pyplot as plt\n",
      "import pysal\n",
      "import pylab as pl\n",
      "import shapely\n",
      "import shapely.geometry\n",
      "from shapely.geometry import shape\n",
      "from shapely.geometry import Point, LineString, Polygon, MultiPolygon \n",
      "from shapely.wkt import dumps, loads\n",
      "from shapely.wkb import dumps, loads\n",
      "\n"
     ],
     "language": "python",
     "metadata": {},
     "outputs": [],
     "prompt_number": 37
    },
    {
     "cell_type": "raw",
     "metadata": {},
     "source": [
      "The Code below will help us draw our shapes on the screen using matplotlib.  (ADD SOURCING and ADDITIONAL COMMENTS)"
     ]
    },
    {
     "cell_type": "code",
     "collapsed": false,
     "input": [
      "def plot(shapelyGeometries):\n",
      "    'Plot shapelyGeometries'\n",
      "    figure = pl.figure(num=None, figsize=(4, 4), dpi=180)\n",
      "    axes = pl.axes()\n",
      "    axes.set_aspect('equal', 'datalim')\n",
      "    axes.xaxis.set_visible(False)\n",
      "    axes.yaxis.set_visible(False)\n",
      "    draw(shapelyGeometries)\n",
      "            \n",
      "def draw(gs):\n",
      "    'Draw shapelyGeometries'\n",
      "    # Handle single and multiple geometries\n",
      "    try:\n",
      "        gs = iter(gs)\n",
      "    except TypeError:\n",
      "        gs = [gs]\n",
      "    # For each shapelyGeometry,\n",
      "    for g in gs:\n",
      "        gType = g.geom_type\n",
      "        if gType.startswith('Multi') or gType == 'GeometryCollection':\n",
      "            draw(g.geoms)\n",
      "        else:\n",
      "            draw_(g)\n",
      "            \n",
      "def draw_(g):\n",
      "    'Draw a shapelyGeometry; thanks to Sean Gilles'\n",
      "    gType = g.geom_type\n",
      "    if gType == 'Point':\n",
      "        pl.plot(g.x, g.y, 'k,')\n",
      "    elif gType == 'LineString':\n",
      "        x, y = g.xy\n",
      "        pl.plot(x, y, 'b-')\n",
      "    elif gType == 'Polygon':\n",
      "        x, y = g.exterior.xy\n",
      "        pl.fill(x, y, color='#cccccc', aa=True) \n",
      "        pl.plot(x, y, color='#666666', aa=True, lw=1.0)\n",
      "        for hole in g.interiors:\n",
      "            x, y = hole.xy\n",
      "            pl.fill(x, y, color='#ffffff', aa=True) \n",
      "            pl.plot(x, y, color='#999999', aa=True, lw=1.0)\n",
      "            \n"
     ],
     "language": "python",
     "metadata": {},
     "outputs": [],
     "prompt_number": 6
    },
    {
     "cell_type": "raw",
     "metadata": {},
     "source": [
      "Let's draw a point."
     ]
    },
    {
     "cell_type": "code",
     "collapsed": false,
     "input": [
      "pt = Point(0, 0)\n",
      "print pt\n",
      "plot(pt)\n"
     ],
     "language": "python",
     "metadata": {},
     "outputs": [
      {
       "output_type": "stream",
       "stream": "stdout",
       "text": [
        "POINT (0 0)\n"
       ]
      },
      {
       "metadata": {},
       "output_type": "display_data",
       "png": "[encoded data removed]",
       "text": [
        "<matplotlib.figure.Figure at 0x1099bc190>"
       ]
      }
     ],
     "prompt_number": 7
    },
    {
     "cell_type": "raw",
     "metadata": {},
     "source": [
      "Okay, that is not much to look at.  ENHANCE!!"
     ]
    },
    {
     "cell_type": "code",
     "collapsed": false,
     "input": [
      "circle = pt.buffer(.5)\n",
      "plot([circle, pt])"
     ],
     "language": "python",
     "metadata": {},
     "outputs": [
      {
       "metadata": {},
       "output_type": "display_data",
       "png": "[encoded data removed]",
       "text": [
        "<matplotlib.figure.Figure at 0x109c94cd0>"
       ]
      }
     ],
     "prompt_number": 20
    },
    {
     "cell_type": "code",
     "collapsed": false,
     "input": [
      "print circle"
     ],
     "language": "python",
     "metadata": {},
     "outputs": [
      {
       "output_type": "stream",
       "stream": "stdout",
       "text": [
        "POLYGON ((0.5 0, 0.4975923633360985 -0.04900857016478025, 0.4903926402016152 -0.09754516100806404, 0.4784701678661045 -0.1451423386272311, 0.4619397662556435 -0.1913417161825447, 0.4409606321741776 -0.2356983684129986, 0.4157348061512728 -0.2777851165098009, 0.3865052266813687 -0.3171966420818225, 0.3535533905932741 -0.3535533905932735, 0.3171966420818231 -0.3865052266813682, 0.2777851165098016 -0.4157348061512723, 0.2356983684129993 -0.4409606321741772, 0.1913417161825454 -0.4619397662556431, 0.1451423386272318 -0.4784701678661042, 0.09754516100806482 -0.4903926402016151, 0.04900857016478104 -0.4975923633360984, 8.077722872162934e-16 -0.5, -0.04900857016477944 -0.4975923633360985, -0.09754516100806324 -0.4903926402016154, -0.1451423386272302 -0.4784701678661047, -0.1913417161825439 -0.4619397662556438, -0.2356983684129978 -0.440960632174178, -0.2777851165098002 -0.4157348061512732, -0.317196642081822 -0.3865052266813691, -0.3535533905932731 -0.3535533905932745, -0.3865052266813679 -0.3171966420818234, -0.4157348061512722 -0.2777851165098018, -0.4409606321741771 -0.2356983684129995, -0.4619397662556431 -0.1913417161825456, -0.4784701678661042 -0.1451423386272318, -0.4903926402016151 -0.09754516100806473, -0.4975923633360984 -0.04900857016478086, -0.5 -5.053215498074303e-16, -0.4975923633360985 0.04900857016477985, -0.4903926402016153 0.09754516100806375, -0.4784701678661045 0.1451423386272309, -0.4619397662556435 0.1913417161825446, -0.4409606321741776 0.2356983684129986, -0.4157348061512727 0.277785116509801, -0.3865052266813686 0.3171966420818226, -0.3535533905932738 0.3535533905932737, -0.317196642081823 0.3865052266813683, -0.2777851165098015 0.4157348061512723, -0.2356983684129993 0.4409606321741772, -0.1913417161825456 0.4619397662556431, -0.1451423386272321 0.4784701678661042, -0.09754516100806521 0.490392640201615, -0.04900857016478155 0.4975923633360983, -1.424116139486239e-15 0.5, 0.04900857016477872 0.4975923633360986, 0.0975451610080624 0.4903926402016155, 0.1451423386272293 0.478470167866105, 0.1913417161825429 0.4619397662556442, 0.2356983684129968 0.4409606321741786, 0.2777851165097991 0.415734806151274, 0.3171966420818207 0.3865052266813701, 0.3535533905932718 0.3535533905932757, 0.3865052266813666 0.317196642081825, 0.4157348061512709 0.2777851165098037, 0.440960632174176 0.2356983684130017, 0.461939766255642 0.1913417161825481, 0.4784701678661034 0.1451423386272346, 0.4903926402016145 0.09754516100806784, 0.4975923633360981 0.04900857016478424, 0.5 4.119267568565299e-15, 0.5 0))\n"
       ]
      }
     ],
     "prompt_number": 21
    },
    {
     "cell_type": "code",
     "collapsed": false,
     "input": [
      "small_circle = pt.buffer(.25)\n",
      "plot([circle, small_circle, pt])"
     ],
     "language": "python",
     "metadata": {},
     "outputs": [
      {
       "metadata": {},
       "output_type": "display_data",
       "png": "[encoded data removed]",
       "text": [
        "<matplotlib.figure.Figure at 0x109c9ee10>"
       ]
      }
     ],
     "prompt_number": 11
    },
    {
     "cell_type": "raw",
     "metadata": {},
     "source": [
      "Let's look at a Polygon with holes."
     ]
    },
    {
     "cell_type": "code",
     "collapsed": false,
     "input": [
      "polygon1 = shapely.geometry.Polygon(\n",
      "    ((1, 1), (5, 1), (5, 5), (1, 5), (1, 1)),      # Shell\n",
      "    [\n",
      "        ((2, 2), (2, 3), (3, 3), (3, 2), (2, 2)),  # Hole\n",
      "        ((3, 3), (3, 4), (4, 4), (4, 3), (3, 3)),  # Hole\n",
      "    ]\n",
      ")\n",
      "print polygon1\n",
      "plot(polygon1)"
     ],
     "language": "python",
     "metadata": {},
     "outputs": [
      {
       "output_type": "stream",
       "stream": "stdout",
       "text": [
        "POLYGON ((1 1, 5 1, 5 5, 1 5, 1 1), (2 2, 2 3, 3 3, 3 2, 2 2), (3 3, 3 4, 4 4, 4 3, 3 3))\n"
       ]
      },
      {
       "metadata": {},
       "output_type": "display_data",
       "png": "[encoded data removed]",
       "text": [
        "<matplotlib.figure.Figure at 0x109c68610>"
       ]
      }
     ],
     "prompt_number": 38
    },
    {
     "cell_type": "raw",
     "metadata": {},
     "source": [
      "You can also use one polygon to make a hole in the other."
     ]
    },
    {
     "cell_type": "code",
     "collapsed": false,
     "input": [
      "donut = circle.difference(small_circle)\n",
      "plot(donut)"
     ],
     "language": "python",
     "metadata": {},
     "outputs": [
      {
       "metadata": {},
       "output_type": "display_data",
       "png": "[encoded data removed]",
       "text": [
        "<matplotlib.figure.Figure at 0x109e17950>"
       ]
      }
     ],
     "prompt_number": 44
    },
    {
     "cell_type": "raw",
     "metadata": {},
     "source": [
      "Let's draw a line.  It's essentially made of two points."
     ]
    },
    {
     "cell_type": "code",
     "collapsed": false,
     "input": [
      "lineString1 = LineString(((-3, -5), (3, 5)))\n",
      "print lineString1\n",
      "plot(lineString1)"
     ],
     "language": "python",
     "metadata": {},
     "outputs": [
      {
       "output_type": "stream",
       "stream": "stdout",
       "text": [
        "LINESTRING (-3 -5, 3 5)\n"
       ]
      },
      {
       "metadata": {},
       "output_type": "display_data",
       "png": "[encoded data removed]",
       "text": [
        "<matplotlib.figure.Figure at 0x1099a91d0>"
       ]
      }
     ],
     "prompt_number": 42
    },
    {
     "cell_type": "raw",
     "metadata": {},
     "source": [
      "How about a super crazy line?  Oh yes, this is super crazy."
     ]
    },
    {
     "cell_type": "code",
     "collapsed": false,
     "input": [
      "lineString2 = LineString(((-3, -5), (3, 5), (-3, 5), (3, -5)))\n",
      "print lineString2\n",
      "plot(lineString2)"
     ],
     "language": "python",
     "metadata": {},
     "outputs": [
      {
       "output_type": "stream",
       "stream": "stdout",
       "text": [
        "LINESTRING (-3 -5, 3 5, -3 5, 3 -5)\n"
       ]
      },
      {
       "metadata": {},
       "output_type": "display_data",
       "png": "[encoded data removed]",
       "text": [
        "<matplotlib.figure.Figure at 0x1099d0110>"
       ]
      }
     ],
     "prompt_number": 43
    },
    {
     "cell_type": "code",
     "collapsed": false,
     "input": [
      "And now we can add polygons to our linestrings to make a sad bunny."
     ],
     "language": "python",
     "metadata": {},
     "outputs": []
    },
    {
     "cell_type": "code",
     "collapsed": false,
     "input": [
      "pt1 = Point(-3, 6.5)\n",
      "pt2 = Point(3, 6.5)\n",
      "left = pt1.buffer(.5)\n",
      "right = pt2.buffer(.5)\n",
      "poly = shapely.geometry.Polygon(\n",
      "    ((-3, 5), (3, 5), (0, 0), (-3, 5)))\n",
      "plot([lineString2, left, right, poly])"
     ],
     "language": "python",
     "metadata": {},
     "outputs": [
      {
       "metadata": {},
       "output_type": "display_data",
       "png": "[encoded data removed]",
       "text": [
        "<matplotlib.figure.Figure at 0x109c91690>"
       ]
      }
     ],
     "prompt_number": 40
    }
   ],
   "metadata": {}
  }
 ]
}